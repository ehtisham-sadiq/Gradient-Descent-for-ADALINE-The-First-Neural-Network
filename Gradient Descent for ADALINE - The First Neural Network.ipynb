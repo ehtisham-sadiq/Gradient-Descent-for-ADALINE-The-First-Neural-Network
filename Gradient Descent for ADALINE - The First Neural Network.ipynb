{
 "cells": [
  {
   "cell_type": "markdown",
   "metadata": {},
   "source": [
    "<h1>\n",
    "Gradient Descent for ADALINE : The First Neural Network\n",
    "</h1>\n"
   ]
  },
  {
   "cell_type": "markdown",
   "metadata": {},
   "source": [
    "\n",
    "# Outline of this Notebook:\n",
    "- Understand the principles behind the creation of the ADALINE\n",
    "- Identify the similarities and differences between the perceptron and the ADALINE\n",
    "- Acquire an intuitive understanding of learning via gradient descent\n",
    "- Develop a basic code implementation of the ADALINE in Python\n",
    "- Determine what kind of problems can and can’t be solved with the ADALINE"
   ]
  },
  {
   "cell_type": "code",
   "execution_count": null,
   "metadata": {},
   "outputs": [],
   "source": []
  },
  {
   "cell_type": "markdown",
   "metadata": {},
   "source": [
    "## 1. Historical and theoretical background\n",
    "\n",
    "The `ADALINE` (Adaptive Linear Neuron) was introduced in 1959, shortly after Rosenblatt’s perceptron, by Bernard Widrow and Ted Hoff (one of the inventors of the microprocessor) at Stanford.\n"
   ]
  },
  {
   "cell_type": "markdown",
   "metadata": {},
   "source": [
    "## 2.Mathematical formalization\n",
    "\n",
    "Mathematically, the ADALINE is described by:\n",
    "\n",
    "- A linear function that aggregates the input signal\n",
    "- A learning procedure to adjust connection weights"
   ]
  },
  {
   "cell_type": "markdown",
   "metadata": {},
   "source": [
    "### a. Linear aggregation function\n",
    "\n",
    "The linear aggregation function is the same as in the perceptron:\n",
    "\n",
    "<img src=\"images/linear-function-adaline.png\" alt=\"Linear aggregation function\" align=\"center\">"
   ]
  },
  {
   "cell_type": "markdown",
   "metadata": {},
   "source": [
    "### b. Threshold Decision Function\n",
    "\n",
    "$$\\hat{y}' = f(\\hat{y}) =\n",
    "\\begin{cases}\n",
    "+1, & \\text{if } \\hat{y} > 0 \\\\\n",
    "-1, & \\text{otherwise}\n",
    "\\end{cases}$$\n"
   ]
  },
  {
   "cell_type": "code",
   "execution_count": null,
   "metadata": {},
   "outputs": [],
   "source": []
  },
  {
   "cell_type": "code",
   "execution_count": null,
   "metadata": {},
   "outputs": [],
   "source": []
  },
  {
   "cell_type": "code",
   "execution_count": null,
   "metadata": {},
   "outputs": [],
   "source": []
  },
  {
   "cell_type": "code",
   "execution_count": null,
   "metadata": {},
   "outputs": [],
   "source": []
  },
  {
   "cell_type": "code",
   "execution_count": null,
   "metadata": {},
   "outputs": [],
   "source": []
  },
  {
   "cell_type": "code",
   "execution_count": null,
   "metadata": {},
   "outputs": [],
   "source": []
  }
 ],
 "metadata": {
  "kernelspec": {
   "display_name": "Python 3 (ipykernel)",
   "language": "python",
   "name": "python3"
  },
  "language_info": {
   "codemirror_mode": {
    "name": "ipython",
    "version": 3
   },
   "file_extension": ".py",
   "mimetype": "text/x-python",
   "name": "python",
   "nbconvert_exporter": "python",
   "pygments_lexer": "ipython3",
   "version": "3.8.10"
  }
 },
 "nbformat": 4,
 "nbformat_minor": 2
}
